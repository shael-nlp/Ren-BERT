{
  "nbformat": 4,
  "nbformat_minor": 0,
  "metadata": {
    "colab": {
      "provenance": [],
      "gpuType": "T4"
    },
    "kernelspec": {
      "name": "python3",
      "display_name": "Python 3"
    },
    "language_info": {
      "name": "python"
    },
    "accelerator": "GPU"
  },
  "cells": [
    {
      "cell_type": "code",
      "execution_count": null,
      "metadata": {
        "id": "3APkQx107NEy"
      },
      "outputs": [],
      "source": [
        "!pip install transformers"
      ]
    },
    {
      "cell_type": "code",
      "source": [
        "from transformers import AutoTokenizer, AutoModel\n",
        "import torch\n",
        "from sklearn.metrics.pairwise import cosine_similarity\n",
        "import numpy as np\n",
        "\n",
        "model_name = \"sentence-transformers/all-MiniLM-L6-v2\"\n",
        "tokenizer = AutoTokenizer.from_pretrained(model_name)\n",
        "model = AutoModel.from_pretrained(model_name)\n",
        "\n",
        "def sentence_to_embedding(sentence):\n",
        "    inputs = tokenizer(sentence, return_tensors=\"pt\", padding=False, truncation=True)\n",
        "    with torch.no_grad():\n",
        "        outputs = model(**inputs)\n",
        "        embeddings = outputs.last_hidden_state.mean(dim=1).squeeze()\n",
        "    return embeddings.numpy()\n",
        "\n",
        "user_input = [\"test\"]\n",
        "\n",
        "target_sentences = [\n",
        "    \"table in the kitchen.\",\n",
        "    \"walls.\",\n",
        "    \"turntable.\",\n",
        "    \"Book on the ground.\"\n",
        "]\n",
        "\n",
        "source_embeddings = np.array([sentence_to_embedding(s) for s in user_input])\n",
        "target_embeddings = np.array([sentence_to_embedding(t) for t in target_sentences])\n",
        "\n",
        "similarity_matrix = cosine_similarity(source_embeddings, target_embeddings)\n",
        "\n",
        "for i, source_sentence in enumerate(user_input):\n",
        "    closest_index = np.argmax(similarity_matrix[i])\n",
        "    closest_score = similarity_matrix[i][closest_index]\n",
        "    closest_sentence = target_sentences[closest_index]\n",
        "\n",
        "    print(f\"Source Sentence: {source_sentence}\")\n",
        "    print(f\"Closest Match: {closest_sentence}\")\n",
        "    print(f\"Similarity Score: {closest_score:.4f}\\n\")\n",
        "\n",
        "    if closest_score < 0.5:\n",
        "      print(f\"You can't do {user_input}\")\n",
        "\n",
        "\n"
      ],
      "metadata": {
        "colab": {
          "base_uri": "https://localhost:8080/"
        },
        "id": "l1MEkXmj7pCQ",
        "outputId": "e3e1ae30-a8c9-4c4f-8ea8-3dbb6eebae79"
      },
      "execution_count": 42,
      "outputs": [
        {
          "output_type": "stream",
          "name": "stdout",
          "text": [
            "Source Sentence: test\n",
            "Closest Match: turntable.\n",
            "Similarity Score: 0.2393\n",
            "\n",
            "You can't do ['test']\n"
          ]
        }
      ]
    },
    {
      "cell_type": "code",
      "source": [],
      "metadata": {
        "id": "cHh3wXJw7w8k"
      },
      "execution_count": null,
      "outputs": []
    }
  ]
}